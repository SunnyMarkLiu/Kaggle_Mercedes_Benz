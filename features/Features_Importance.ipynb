{
 "cells": [
  {
   "cell_type": "code",
   "execution_count": 1,
   "metadata": {
    "collapsed": true
   },
   "outputs": [],
   "source": [
    "import os\n",
    "import sys\n",
    "module_path = os.path.abspath(os.path.join('..'))\n",
    "sys.path.append(module_path)\n",
    "\n",
    "import numpy as np\n",
    "import pandas as pd\n",
    "from sklearn.metrics import r2_score\n",
    "import xgboost as xgb\n",
    "import matplotlib\n",
    "import matplotlib.pyplot as plt\n",
    "import seaborn as sns\n",
    "sns.set_style('whitegrid')\n",
    "color = sns.color_palette()\n",
    "%matplotlib inline\n",
    "matplotlib.style.use('ggplot')\n",
    "\n",
    "# remove warnings\n",
    "import warnings\n",
    "warnings.filterwarnings('ignore')\n",
    "\n",
    "from IPython.display import display\n",
    "\n",
    "from sklearn import preprocessing\n",
    "from utils import data_util"
   ]
  },
  {
   "cell_type": "code",
   "execution_count": 2,
   "metadata": {},
   "outputs": [
    {
     "name": "stdout",
     "output_type": "stream",
     "text": [
      "load datas...\n",
      "validate size: 0.250074250074\n",
      "('X_train_all shape is', (4209, 572))\n",
      "('X_train shape is', (3367, 572))\n",
      "('y_train shape is', (3367,))\n",
      "('X_val shape is', (842, 572))\n",
      "('y_val shape is', (842,))\n",
      "('X_test shape is', (4209, 572))\n",
      "[0]\ttrain-rmse:12.8877\ttest-rmse:12.8834\n",
      "[50]\ttrain-rmse:11.2747\ttest-rmse:11.4177\n",
      "[100]\ttrain-rmse:10.1449\ttest-rmse:10.4282\n",
      "[150]\ttrain-rmse:9.35762\ttest-rmse:9.78473\n",
      "[200]\ttrain-rmse:8.80212\ttest-rmse:9.3771\n",
      "[250]\ttrain-rmse:8.41065\ttest-rmse:9.12642\n",
      "[300]\ttrain-rmse:8.12107\ttest-rmse:8.97462\n",
      "[350]\ttrain-rmse:7.89466\ttest-rmse:8.8867\n",
      "[400]\ttrain-rmse:7.70096\ttest-rmse:8.83715\n",
      "[450]\ttrain-rmse:7.54226\ttest-rmse:8.80939\n",
      "[499]\ttrain-rmse:7.40699\ttest-rmse:8.79518\n",
      "num_boost_rounds = 500\n",
      "train r2 score = 0.645239516238 , validate r2 score = 0.629245216965\n"
     ]
    }
   ],
   "source": [
    "print 'load datas...'\n",
    "train, test = data_util.load_dataset()\n",
    "\n",
    "y_train_all = train['y']\n",
    "del train['ID']\n",
    "del train['y']\n",
    "id_test = test['ID']\n",
    "del test['ID']\n",
    "\n",
    "# Convert to numpy values\n",
    "X_all = train.values\n",
    "# Create a validation set, with last 20% of data\n",
    "num_train = int(train.shape[0] * 0.8)\n",
    "X_train_all = X_all\n",
    "X_train = X_all[:num_train]\n",
    "X_val = X_all[num_train:]\n",
    "y_train = y_train_all[:num_train]\n",
    "y_val = y_train_all[num_train:]\n",
    "X_test = test\n",
    "print \"validate size:\", 1.0 * X_val.shape[0] / X_train.shape[0]\n",
    "\n",
    "print('X_train_all shape is', X_train_all.shape)\n",
    "print('X_train shape is', X_train.shape)\n",
    "print('y_train shape is', y_train.shape)\n",
    "print('X_val shape is', X_val.shape)\n",
    "print('y_val shape is', y_val.shape)\n",
    "print('X_test shape is', X_test.shape)\n",
    "\n",
    "df_columns = train.columns.values\n",
    "dtrain_all = xgb.DMatrix(X_train_all, y_train_all, feature_names=df_columns)\n",
    "dtrain = xgb.DMatrix(X_train, y_train, feature_names=df_columns)\n",
    "dval = xgb.DMatrix(X_val, y_val, feature_names=df_columns)\n",
    "dtest = xgb.DMatrix(X_test, feature_names=df_columns)\n",
    "\n",
    "y_mean = np.mean(y_train)\n",
    "xgb_params = {\n",
    "    'n_trees': 500,\n",
    "    'eta': 0.005,\n",
    "    'max_depth': 4,\n",
    "    'subsample': 0.95,\n",
    "    'objective': 'reg:linear',\n",
    "    'eval_metric': 'rmse',\n",
    "    'base_score': y_mean,  # base prediction = mean(target)\n",
    "    'silent': 1\n",
    "}\n",
    "\n",
    "# xgboost, cross-validation\n",
    "cv_result = xgb.cv(xgb_params,\n",
    "                   dtrain,\n",
    "                   num_boost_round=500,  # increase to have better results (~700)\n",
    "                   early_stopping_rounds=50,\n",
    "                   verbose_eval=50,\n",
    "                   show_stdv=False\n",
    "                   )\n",
    "\n",
    "num_boost_rounds = len(cv_result)\n",
    "print 'num_boost_rounds =', num_boost_rounds\n",
    "model = xgb.train(xgb_params, dtrain, num_boost_round=num_boost_rounds)\n",
    "train_r2_score = r2_score(dtrain.get_label(), model.predict(dtrain))\n",
    "val_r2_score = r2_score(dval.get_label(), model.predict(dval))\n",
    "print 'train r2 score =', train_r2_score, ', validate r2 score =', val_r2_score\n",
    "\n",
    "# train model\n",
    "model = xgb.train(dict(xgb_params, base_score=np.mean(y_train_all)), dtrain_all, num_boost_round=num_boost_rounds)\n"
   ]
  },
  {
   "cell_type": "code",
   "execution_count": 3,
   "metadata": {
    "collapsed": true
   },
   "outputs": [],
   "source": [
    "def importance_XGB(clf):\n",
    "    impdf = []\n",
    "    for ft, score in clf.get_fscore().iteritems():\n",
    "        impdf.append({'feature': ft, 'importance': score})\n",
    "    impdf = pd.DataFrame(impdf)\n",
    "    impdf = impdf.sort_values(by='importance', ascending=False).reset_index(drop=True)\n",
    "    impdf['importance'] /= impdf['importance'].sum()\n",
    "    return impdf"
   ]
  },
  {
   "cell_type": "code",
   "execution_count": 4,
   "metadata": {
    "collapsed": true
   },
   "outputs": [],
   "source": [
    "impdf = importance_XGB(model)"
   ]
  },
  {
   "cell_type": "code",
   "execution_count": 5,
   "metadata": {},
   "outputs": [
    {
     "data": {
      "text/plain": [
       "<matplotlib.axes._subplots.AxesSubplot at 0x7f0f61822f10>"
      ]
     },
     "execution_count": 5,
     "metadata": {},
     "output_type": "execute_result"
    },
    {
     "data": {
      "image/png": "[encoded data removed]",
      "text/plain": [
       "<matplotlib.figure.Figure at 0x7f0f61839e50>"
      ]
     },
     "metadata": {},
     "output_type": "display_data"
    }
   ],
   "source": [
    "plt.figure(figsize=(20, 10))\n",
    "sns.barplot(x='feature', y='importance', data=impdf.loc[:, :], color=color[3])"
   ]
  },
  {
   "cell_type": "code",
   "execution_count": 6,
   "metadata": {
    "scrolled": false
   },
   "outputs": [
    {
     "name": "stdout",
     "output_type": "stream",
     "text": [
      "(164, 2)\n"
     ]
    }
   ],
   "source": [
    "print impdf.shape"
   ]
  },
  {
   "cell_type": "code",
   "execution_count": 7,
   "metadata": {
    "collapsed": true
   },
   "outputs": [],
   "source": [
    "import operator\n",
    "\n",
    "importance = model.get_fscore()\n",
    "importance = sorted(importance.items(), key=operator.itemgetter(1))"
   ]
  },
  {
   "cell_type": "code",
   "execution_count": 8,
   "metadata": {
    "scrolled": false
   },
   "outputs": [
    {
     "data": {
      "text/plain": [
       "[('X218', 1),\n",
       " ('X117', 1),\n",
       " ('X345', 1),\n",
       " ('X344', 1),\n",
       " ('ipca_29', 1),\n",
       " ('X374', 1),\n",
       " ('X100', 1),\n",
       " ('label_encoder_X2', 1),\n",
       " ('X173', 1),\n",
       " ('X177', 1),\n",
       " ('X178', 1),\n",
       " ('X58', 1),\n",
       " ('X164', 1),\n",
       " ('X168', 1),\n",
       " ('X151', 1),\n",
       " ('label_encoder_X3_mean_y', 1),\n",
       " ('label_encoder_X1_mean_y', 1),\n",
       " ('X85', 1),\n",
       " ('X96', 1),\n",
       " ('ipca_42', 1),\n",
       " ('X201', 1),\n",
       " ('X355', 1),\n",
       " ('X29', 2),\n",
       " ('X43', 2),\n",
       " ('X240', 2),\n",
       " ('label_encoder_X0_std_y', 2),\n",
       " ('label_encoder_X2_mean_y', 2),\n",
       " ('ipca_35', 2),\n",
       " ('ipca_33', 2),\n",
       " ('ipca_37', 2),\n",
       " ('X81', 2),\n",
       " ('pca_43', 2),\n",
       " ('label_encoder_X2_median_y', 2),\n",
       " ('X27', 3),\n",
       " ('X104', 3),\n",
       " ('label_encoder_X0', 3),\n",
       " ('pca_44', 3),\n",
       " ('ipca_39', 3),\n",
       " ('X41', 3),\n",
       " ('X116', 4),\n",
       " ('pca_18', 4),\n",
       " ('ipca_67', 4),\n",
       " ('ipca_38', 4),\n",
       " ('ipca_44', 4),\n",
       " ('X287', 4),\n",
       " ('ipca_24', 5),\n",
       " ('X275', 5),\n",
       " ('pca_31', 5),\n",
       " ('pca_35', 6),\n",
       " ('X127', 6),\n",
       " ('label_encoder_X6_std_y', 7),\n",
       " ('X77', 7),\n",
       " ('X142', 7),\n",
       " ('X31', 8),\n",
       " ('X68', 8),\n",
       " ('label_encoder_X2_std_y', 8),\n",
       " ('ipca_60', 8),\n",
       " ('pca_42', 8),\n",
       " ('X14', 8),\n",
       " ('X17', 8),\n",
       " ('pca_17', 9),\n",
       " ('ipca_64', 9),\n",
       " ('label_encoder_X8_mean_y', 9),\n",
       " ('label_encoder_X1', 10),\n",
       " ('label_encoder_X8_median_y', 10),\n",
       " ('pca_38', 10),\n",
       " ('pca_40', 10),\n",
       " ('pca_49', 10),\n",
       " ('X383', 11),\n",
       " ('pca_48', 11),\n",
       " ('ipca_54', 12),\n",
       " ('X20', 12),\n",
       " ('X105', 12),\n",
       " ('X46', 12),\n",
       " ('pca_30', 12),\n",
       " ('cluster_7_cluster_label', 13),\n",
       " ('ipca_46', 13),\n",
       " ('X18', 13),\n",
       " ('X267', 14),\n",
       " ('ipca_40', 14),\n",
       " ('pca_15', 16),\n",
       " ('ipca_52', 16),\n",
       " ('ipca_69', 17),\n",
       " ('ipca_68', 17),\n",
       " ('ipca_62', 18),\n",
       " ('pca_34', 18),\n",
       " ('label_encoder_X3_std_y', 18),\n",
       " ('label_encoder_X8', 19),\n",
       " ('label_encoder_X6', 19),\n",
       " ('ipca_56', 20),\n",
       " ('label_encoder_X5_std_y', 20),\n",
       " ('X56', 20),\n",
       " ('pca_33', 20),\n",
       " ('X70', 20),\n",
       " ('pca_22', 20),\n",
       " ('pca_26', 20),\n",
       " ('X45', 21),\n",
       " ('pca_39', 21),\n",
       " ('pca_12', 22),\n",
       " ('pca_9', 22),\n",
       " ('X38', 22),\n",
       " ('pca_13', 23),\n",
       " ('pca_45', 24),\n",
       " ('label_encoder_X6_mean_y', 25),\n",
       " ('ipca_41', 25),\n",
       " ('pca_27', 26),\n",
       " ('ipca_51', 27),\n",
       " ('pca_32', 27),\n",
       " ('X13', 28),\n",
       " ('X54', 29),\n",
       " ('label_encoder_X8_std_y', 30),\n",
       " ('ipca_43', 30),\n",
       " ('X51', 31),\n",
       " ('X265', 33),\n",
       " ('pca_24', 33),\n",
       " ('ipca_49', 34),\n",
       " ('pca_20', 35),\n",
       " ('ipca_66', 36),\n",
       " ('ipca_63', 36),\n",
       " ('pca_14', 38),\n",
       " ('ipca_59', 39),\n",
       " ('pca_41', 39),\n",
       " ('pca_2', 42),\n",
       " ('pca_3', 42),\n",
       " ('label_encoder_X5', 42),\n",
       " ('ipca_53', 43),\n",
       " ('pca_21', 44),\n",
       " ('label_encoder_X3', 47),\n",
       " ('pca_36', 47),\n",
       " ('pca_19', 49),\n",
       " ('ipca_47', 51),\n",
       " ('ipca_58', 52),\n",
       " ('pca_4', 52),\n",
       " ('pca_28', 53),\n",
       " ('pca_25', 55),\n",
       " ('ipca_65', 59),\n",
       " ('ipca_57', 60),\n",
       " ('pca_29', 60),\n",
       " ('ipca_61', 64),\n",
       " ('pca_5', 71),\n",
       " ('ipca_45', 72),\n",
       " ('pca_46', 75),\n",
       " ('pca_37', 86),\n",
       " ('ipca_48', 88),\n",
       " ('average_extra_center_distance_cluster_7', 89),\n",
       " ('ipca_55', 90),\n",
       " ('label_encoder_X5_median_y', 96),\n",
       " ('pca_16', 100),\n",
       " ('pca_10', 102),\n",
       " ('pca_47', 102),\n",
       " ('pca_6', 111),\n",
       " ('ipca_50', 128),\n",
       " ('label_encoder_X1_std_y', 128),\n",
       " ('label_encoder_X0_median_y', 129),\n",
       " ('pca_23', 161),\n",
       " ('pca_8', 176),\n",
       " ('pca_1', 193),\n",
       " ('intra_center_distance_cluster_7', 194),\n",
       " ('X47', 230),\n",
       " ('pca_0', 241),\n",
       " ('pca_7', 321),\n",
       " ('label_encoder_X5_mean_y', 341),\n",
       " ('pca_11', 344),\n",
       " ('label_encoder_X0_mean_y', 1025)]"
      ]
     },
     "execution_count": 8,
     "metadata": {},
     "output_type": "execute_result"
    }
   ],
   "source": [
    "importance"
   ]
  },
  {
   "cell_type": "code",
   "execution_count": null,
   "metadata": {
    "collapsed": true
   },
   "outputs": [],
   "source": []
  }
 ],
 "metadata": {
  "kernelspec": {
   "display_name": "Python 2",
   "language": "python",
   "name": "python2"
  },
  "language_info": {
   "codemirror_mode": {
    "name": "ipython",
    "version": 2
   },
   "file_extension": ".py",
   "mimetype": "text/x-python",
   "name": "python",
   "nbconvert_exporter": "python",
   "pygments_lexer": "ipython2",
   "version": "2.7.13"
  }
 },
 "nbformat": 4,
 "nbformat_minor": 2
}
