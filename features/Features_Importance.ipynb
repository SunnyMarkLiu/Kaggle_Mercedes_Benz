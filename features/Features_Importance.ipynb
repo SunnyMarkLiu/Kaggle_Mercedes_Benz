{
 "cells": [
  {
   "cell_type": "code",
   "execution_count": 1,
   "metadata": {
    "collapsed": true
   },
   "outputs": [],
   "source": [
    "import os\n",
    "import sys\n",
    "module_path = os.path.abspath(os.path.join('..'))\n",
    "sys.path.append(module_path)\n",
    "\n",
    "import numpy as np\n",
    "import pandas as pd\n",
    "from sklearn.metrics import r2_score\n",
    "import xgboost as xgb\n",
    "import matplotlib\n",
    "import matplotlib.pyplot as plt\n",
    "import seaborn as sns\n",
    "sns.set_style('whitegrid')\n",
    "color = sns.color_palette()\n",
    "%matplotlib inline\n",
    "matplotlib.style.use('ggplot')\n",
    "\n",
    "# remove warnings\n",
    "import warnings\n",
    "warnings.filterwarnings('ignore')\n",
    "\n",
    "from IPython.display import display\n",
    "\n",
    "from sklearn import preprocessing\n",
    "from utils import data_util"
   ]
  },
  {
   "cell_type": "code",
   "execution_count": 2,
   "metadata": {},
   "outputs": [
    {
     "name": "stdout",
     "output_type": "stream",
     "text": [
      "load datas...\n",
      "validate size: 0.250074250074\n",
      "('X_train_all shape is', (4209, 426))\n",
      "('X_train shape is', (3367, 426))\n",
      "('y_train shape is', (3367,))\n",
      "('X_val shape is', (842, 426))\n",
      "('y_val shape is', (842,))\n",
      "('X_test shape is', (4209, 426))\n",
      "[0]\ttrain-rmse:12.8896\ttest-rmse:12.8837\n",
      "[50]\ttrain-rmse:11.3458\ttest-rmse:11.4351\n",
      "[100]\ttrain-rmse:10.2739\ttest-rmse:10.4575\n",
      "[150]\ttrain-rmse:9.54204\ttest-rmse:9.81649\n",
      "[200]\ttrain-rmse:9.047\ttest-rmse:9.41137\n",
      "[250]\ttrain-rmse:8.71244\ttest-rmse:9.15948\n",
      "[300]\ttrain-rmse:8.46727\ttest-rmse:9.01345\n",
      "[350]\ttrain-rmse:8.24896\ttest-rmse:8.93258\n",
      "[400]\ttrain-rmse:8.06744\ttest-rmse:8.88676\n",
      "[450]\ttrain-rmse:7.91268\ttest-rmse:8.86436\n",
      "[499]\ttrain-rmse:7.76986\ttest-rmse:8.85162\n",
      "num_boost_rounds = 500\n",
      "train r2 score = 0.612386126966 , validate r2 score = 0.600934469325\n"
     ]
    }
   ],
   "source": [
    "print 'load datas...'\n",
    "train, test = data_util.load_dataset()\n",
    "\n",
    "y_train_all = train['y']\n",
    "del train['ID']\n",
    "del train['y']\n",
    "id_test = test['ID']\n",
    "del test['ID']\n",
    "\n",
    "# Convert to numpy values\n",
    "X_all = train.values\n",
    "# Create a validation set, with last 20% of data\n",
    "num_train = int(train.shape[0] * 0.8)\n",
    "X_train_all = X_all\n",
    "X_train = X_all[:num_train]\n",
    "X_val = X_all[num_train:]\n",
    "y_train = y_train_all[:num_train]\n",
    "y_val = y_train_all[num_train:]\n",
    "X_test = test\n",
    "print \"validate size:\", 1.0 * X_val.shape[0] / X_train.shape[0]\n",
    "\n",
    "print('X_train_all shape is', X_train_all.shape)\n",
    "print('X_train shape is', X_train.shape)\n",
    "print('y_train shape is', y_train.shape)\n",
    "print('X_val shape is', X_val.shape)\n",
    "print('y_val shape is', y_val.shape)\n",
    "print('X_test shape is', X_test.shape)\n",
    "\n",
    "df_columns = train.columns.values\n",
    "dtrain_all = xgb.DMatrix(X_train_all, y_train_all, feature_names=df_columns)\n",
    "dtrain = xgb.DMatrix(X_train, y_train, feature_names=df_columns)\n",
    "dval = xgb.DMatrix(X_val, y_val, feature_names=df_columns)\n",
    "dtest = xgb.DMatrix(X_test, feature_names=df_columns)\n",
    "\n",
    "y_mean = np.mean(y_train)\n",
    "xgb_params = {\n",
    "    'n_trees': 500,\n",
    "    'eta': 0.005,\n",
    "    'max_depth': 4,\n",
    "    'subsample': 0.95,\n",
    "    'objective': 'reg:linear',\n",
    "    'eval_metric': 'rmse',\n",
    "    'base_score': y_mean,  # base prediction = mean(target)\n",
    "    'silent': 1\n",
    "}\n",
    "\n",
    "# xgboost, cross-validation\n",
    "cv_result = xgb.cv(xgb_params,\n",
    "                   dtrain,\n",
    "                   num_boost_round=500,  # increase to have better results (~700)\n",
    "                   early_stopping_rounds=50,\n",
    "                   verbose_eval=50,\n",
    "                   show_stdv=False\n",
    "                   )\n",
    "\n",
    "num_boost_rounds = len(cv_result)\n",
    "print 'num_boost_rounds =', num_boost_rounds\n",
    "model = xgb.train(xgb_params, dtrain, num_boost_round=num_boost_rounds)\n",
    "train_r2_score = r2_score(dtrain.get_label(), model.predict(dtrain))\n",
    "val_r2_score = r2_score(dval.get_label(), model.predict(dval))\n",
    "print 'train r2 score =', train_r2_score, ', validate r2 score =', val_r2_score\n",
    "\n",
    "# train model\n",
    "model = xgb.train(dict(xgb_params, base_score=np.mean(y_train_all)), dtrain_all, num_boost_round=num_boost_rounds)\n"
   ]
  },
  {
   "cell_type": "code",
   "execution_count": 3,
   "metadata": {
    "collapsed": true
   },
   "outputs": [],
   "source": [
    "def importance_XGB(clf):\n",
    "    impdf = []\n",
    "    for ft, score in clf.get_fscore().iteritems():\n",
    "        impdf.append({'feature': ft, 'importance': score})\n",
    "    impdf = pd.DataFrame(impdf)\n",
    "    impdf = impdf.sort_values(by='importance', ascending=False).reset_index(drop=True)\n",
    "    impdf['importance'] /= impdf['importance'].sum()\n",
    "    return impdf"
   ]
  },
  {
   "cell_type": "code",
   "execution_count": 4,
   "metadata": {},
   "outputs": [],
   "source": [
    "impdf = importance_XGB(model)"
   ]
  },
  {
   "cell_type": "code",
   "execution_count": 5,
   "metadata": {},
   "outputs": [
    {
     "data": {
      "text/plain": [
       "<matplotlib.axes._subplots.AxesSubplot at 0x7fcd2c46ca90>"
      ]
     },
     "execution_count": 5,
     "metadata": {},
     "output_type": "execute_result"
    },
    {
     "data": {
      "image/png": "[encoded data removed]",
      "text/plain": [
       "<matplotlib.figure.Figure at 0x7fcd2c46c1d0>"
      ]
     },
     "metadata": {},
     "output_type": "display_data"
    }
   ],
   "source": [
    "plt.figure(figsize=(20, 10))\n",
    "sns.barplot(x='feature', y='importance', data=impdf.loc[:20, :], color=color[3])"
   ]
  },
  {
   "cell_type": "code",
   "execution_count": null,
   "metadata": {
    "collapsed": true
   },
   "outputs": [],
   "source": []
  }
 ],
 "metadata": {
  "kernelspec": {
   "display_name": "Python 2",
   "language": "python",
   "name": "python2"
  },
  "language_info": {
   "codemirror_mode": {
    "name": "ipython",
    "version": 2
   },
   "file_extension": ".py",
   "mimetype": "text/x-python",
   "name": "python",
   "nbconvert_exporter": "python",
   "pygments_lexer": "ipython2",
   "version": "2.7.13"
  }
 },
 "nbformat": 4,
 "nbformat_minor": 2
}
